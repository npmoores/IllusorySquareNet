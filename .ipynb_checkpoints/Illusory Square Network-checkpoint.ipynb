{
 "metadata": {
  "name": "",
  "signature": "sha256:41b8c21a464d61de90a171ef8ad96b1dd5a6d7acb7008e6eaca99d867d8963cd"
 },
 "nbformat": 3,
 "nbformat_minor": 0,
 "worksheets": [
  {
   "cells": [
    {
     "cell_type": "code",
     "collapsed": false,
     "input": [],
     "language": "python",
     "metadata": {},
     "outputs": []
    }
   ],
   "metadata": {}
  }
 ]
}